{
 "cells": [
  {
   "cell_type": "code",
   "execution_count": null,
   "id": "8bba4190",
   "metadata": {},
   "outputs": [],
   "source": [
    "import numpy as np\n",
    "import pandas as pd"
   ]
  },
  {
   "cell_type": "code",
   "execution_count": null,
   "id": "af848bba",
   "metadata": {},
   "outputs": [],
   "source": [
    "data_path = \"../../../test/data/adult/adult_test.parquet\"\n",
    "\n",
    "data = pd.read_parquet(data_path)\n",
    "display(data)\n",
    "X_test = data.drop('income', axis=1)"
   ]
  },
  {
   "cell_type": "code",
   "execution_count": null,
   "id": "dbd36252",
   "metadata": {},
   "outputs": [],
   "source": [
    "import mlflow"
   ]
  },
  {
   "cell_type": "code",
   "execution_count": null,
   "id": "f1bef822",
   "metadata": {},
   "outputs": [],
   "source": [
    "model_path = \"./component_registered_lr_01_1647865968_\""
   ]
  },
  {
   "cell_type": "code",
   "execution_count": null,
   "id": "d8944a00",
   "metadata": {},
   "outputs": [],
   "source": [
    "model_direct = mlflow.pyfunc.load_model(model_path)._model_impl"
   ]
  },
  {
   "cell_type": "code",
   "execution_count": null,
   "id": "db3fb9ad",
   "metadata": {},
   "outputs": [],
   "source": [
    "model_direct.predict_proba(X_test.head())"
   ]
  },
  {
   "cell_type": "code",
   "execution_count": null,
   "id": "c6f1e131",
   "metadata": {},
   "outputs": [],
   "source": [
    "from deployed_model import DeployedModel"
   ]
  },
  {
   "cell_type": "code",
   "execution_count": null,
   "id": "6f7e951a",
   "metadata": {},
   "outputs": [],
   "source": [
    "with DeployedModel(model_path) as dm:\n",
    "    print(\"Deployed!\")\n",
    "#    from_dm = dm.predict(X_test)\n",
    "#    assert np.array_equal(from_dm, model_direct.predict(X_test))"
   ]
  },
  {
   "cell_type": "markdown",
   "id": "cfe6b32d",
   "metadata": {},
   "source": [
    "Now try using the wrapper which should provide predict and predict_proba"
   ]
  },
  {
   "cell_type": "code",
   "execution_count": null,
   "id": "59e5994c",
   "metadata": {},
   "outputs": [],
   "source": [
    "from model_wrapper import ModelWrapper"
   ]
  },
  {
   "cell_type": "code",
   "execution_count": null,
   "id": "a4436ab8",
   "metadata": {},
   "outputs": [],
   "source": [
    "wrapped_dir = ModelWrapper.wrap_mlflow_model(model_path)"
   ]
  },
  {
   "cell_type": "code",
   "execution_count": null,
   "id": "8e9b6fa2",
   "metadata": {},
   "outputs": [],
   "source": [
    "print(wrapped_dir)"
   ]
  },
  {
   "cell_type": "code",
   "execution_count": null,
   "id": "744cbd9d",
   "metadata": {},
   "outputs": [],
   "source": [
    "direct_wrapped = mlflow.pyfunc.load_model(str(wrapped_dir))"
   ]
  },
  {
   "cell_type": "code",
   "execution_count": null,
   "id": "c83a1d6c",
   "metadata": {},
   "outputs": [],
   "source": [
    "dw_preds = direct_wrapped.predict(X_test)\n",
    "\n",
    "assert np.array_equal(dw_preds['pred'], model_direct.predict(X_test))\n",
    "assert np.array_equal(dw_preds['pred_proba'], model_direct.predict_proba(X_test))"
   ]
  },
  {
   "cell_type": "markdown",
   "id": "5f5aeb30",
   "metadata": {},
   "source": [
    "Now, _deploy_ the wrapper to its own conda environment:"
   ]
  },
  {
   "cell_type": "code",
   "execution_count": null,
   "id": "4bd023ec",
   "metadata": {},
   "outputs": [],
   "source": [
    "with DeployedModel(str(wrapped_dir)) as deployed_wrapped_model:\n",
    "    preds = deployed_wrapped_model.predict(X_test.head())\n",
    "    preds_proba = deployed_wrapped_model.predict_proba(X_test.head())\n",
    "    assert np.array_equal(preds, model_direct.predict(X_test))\n",
    "    assert np.array_equal(deployed_wrapped_model.predict_proba(X_test), model_direct.predict_proba(X_test))"
   ]
  },
  {
   "cell_type": "code",
   "execution_count": null,
   "id": "9ed455e7",
   "metadata": {},
   "outputs": [],
   "source": [
    "type(wrapped_dir)"
   ]
  },
  {
   "cell_type": "code",
   "execution_count": null,
   "id": "20e70977",
   "metadata": {},
   "outputs": [],
   "source": []
  },
  {
   "cell_type": "code",
   "execution_count": null,
   "id": "5864a3f4",
   "metadata": {},
   "outputs": [],
   "source": []
  }
 ],
 "metadata": {
  "kernelspec": {
   "display_name": "Python 3",
   "language": "python",
   "name": "python3"
  },
  "language_info": {
   "codemirror_mode": {
    "name": "ipython",
    "version": 3
   },
   "file_extension": ".py",
   "mimetype": "text/x-python",
   "name": "python",
   "nbconvert_exporter": "python",
   "pygments_lexer": "ipython3",
   "version": "3.8.12"
  }
 },
 "nbformat": 4,
 "nbformat_minor": 5
}
