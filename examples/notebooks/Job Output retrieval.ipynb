{
 "cells": [
  {
   "cell_type": "code",
   "execution_count": null,
   "id": "1b2e0f77",
   "metadata": {},
   "outputs": [],
   "source": [
    "from azure.ml import MLClient\n",
    "from azure.identity import DefaultAzureCredential\n",
    "ml_client = MLClient.from_config(credential=DefaultAzureCredential(exclude_shared_token_cache_credential=True),\n",
    "                     logging_enable=True)"
   ]
  },
  {
   "cell_type": "code",
   "execution_count": null,
   "id": "5b236a2b",
   "metadata": {},
   "outputs": [],
   "source": [
    "for x in ml_client.jobs.list():\n",
    "    print(x.experiment_name, x.name)"
   ]
  },
  {
   "cell_type": "code",
   "execution_count": null,
   "id": "c1f264ca",
   "metadata": {},
   "outputs": [],
   "source": [
    "target_job = ml_client.jobs.get(name=\"gray_ocean_lkxdhs8v35\")"
   ]
  },
  {
   "cell_type": "code",
   "execution_count": null,
   "id": "19621abc",
   "metadata": {},
   "outputs": [],
   "source": [
    "ml_client.jobs.download(\n",
    "    target_job.name,\n",
    "    download_path=\".\",\n",
    "    output_name='dashboard'\n",
    ")"
   ]
  },
  {
   "cell_type": "code",
   "execution_count": null,
   "id": "24603ce0",
   "metadata": {},
   "outputs": [],
   "source": [
    "child_jobs = list(ml_client.jobs.list(parent_job_name=target_job.name))\n",
    "\n",
    "for c in child_jobs:\n",
    "    print(c.display_name, c.name)"
   ]
  },
  {
   "cell_type": "code",
   "execution_count": null,
   "id": "aae34e72",
   "metadata": {},
   "outputs": [],
   "source": [
    "gather_job = child_jobs[-1]\n",
    "print(gather_job.display_name, gather_job.name)"
   ]
  },
  {
   "cell_type": "code",
   "execution_count": null,
   "id": "000d9d4e",
   "metadata": {},
   "outputs": [],
   "source": [
    "    ml_client.jobs.download(\n",
    "        gather_job.name,\n",
    "        download_path='.',\n",
    "        output_name='dashboard'\n",
    "    )"
   ]
  },
  {
   "cell_type": "code",
   "execution_count": null,
   "id": "548e0d6f",
   "metadata": {},
   "outputs": [],
   "source": [
    "ml_client.jobs.download(\n",
    "    target_job.name,\n",
    "    download_path=\".\"\n",
    ")"
   ]
  },
  {
   "cell_type": "code",
   "execution_count": null,
   "id": "a30ff1aa",
   "metadata": {},
   "outputs": [],
   "source": [
    "import os\n",
    "os.getcwd()"
   ]
  },
  {
   "cell_type": "code",
   "execution_count": null,
   "id": "0412fa19",
   "metadata": {},
   "outputs": [],
   "source": [
    "ml_client.jobs.download(\n",
    "    gather_job.name,\n",
    "    download_path='.'\n",
    ")"
   ]
  },
  {
   "cell_type": "code",
   "execution_count": null,
   "id": "8e0fca47",
   "metadata": {},
   "outputs": [],
   "source": []
  }
 ],
 "metadata": {
  "kernelspec": {
   "display_name": "Python 3",
   "language": "python",
   "name": "python3"
  },
  "language_info": {
   "codemirror_mode": {
    "name": "ipython",
    "version": 3
   },
   "file_extension": ".py",
   "mimetype": "text/x-python",
   "name": "python",
   "nbconvert_exporter": "python",
   "pygments_lexer": "ipython3",
   "version": "3.8.12"
  }
 },
 "nbformat": 4,
 "nbformat_minor": 5
}
